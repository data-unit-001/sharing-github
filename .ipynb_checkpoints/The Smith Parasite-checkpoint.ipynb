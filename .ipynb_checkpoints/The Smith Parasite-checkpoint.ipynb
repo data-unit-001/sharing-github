{
 "cells": [
  {
   "cell_type": "markdown",
   "id": "b18082fe",
   "metadata": {},
   "source": [
    "## ML Project\n",
    "\n",
    "### TO DO LIST\n",
    "Business Understanding\n",
    "Goal\n",
    "\n",
    "\n",
    "\n"
   ]
  },
  {
   "cell_type": "code",
   "execution_count": null,
   "id": "24659373",
   "metadata": {},
   "outputs": [],
   "source": [
    "#TEST"
   ]
  },
  {
   "cell_type": "code",
   "execution_count": null,
   "id": "5f0d9d26",
   "metadata": {},
   "outputs": [],
   "source": []
  }
 ],
 "metadata": {
  "kernelspec": {
   "display_name": "Python 3",
   "language": "python",
   "name": "python3"
  },
  "language_info": {
   "codemirror_mode": {
    "name": "ipython",
    "version": 3
   },
   "file_extension": ".py",
   "mimetype": "text/x-python",
   "name": "python",
   "nbconvert_exporter": "python",
   "pygments_lexer": "ipython3",
   "version": "3.9.12"
  }
 },
 "nbformat": 4,
 "nbformat_minor": 5
}
